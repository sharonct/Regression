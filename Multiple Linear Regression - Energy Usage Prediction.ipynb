{
 "cells": [
  {
   "cell_type": "markdown",
   "metadata": {},
   "source": [
    "### Problem "
   ]
  },
  {
   "cell_type": "markdown",
   "metadata": {},
   "source": [
    "The task is to predict the energy usage of a house based on Internet of Things (IoT) measurements of temperature, humidity, and weather observations. "
   ]
  },
  {
   "cell_type": "markdown",
   "metadata": {},
   "source": [
    "### Relevant Paper"
   ]
  },
  {
   "cell_type": "markdown",
   "metadata": {},
   "source": [
    "Data driven prediction models of energy use of appliances in a low-energy house. Luis M. Candanedo, Véronique Feldheim, Dominique Deramaix. Energy and Buildings, Volume 140, 1 April 2017, Pages 81-97, ISSN 0378-7788, http://dx.doi.org/10.1016/j.enbuild.2017.01.083."
   ]
  },
  {
   "cell_type": "markdown",
   "metadata": {},
   "source": [
    "### Data Source"
   ]
  },
  {
   "cell_type": "markdown",
   "metadata": {},
   "source": [
    "The authors provide their code and data in a [Github Repository](https://github.com/LuisM78/Appliances-energy-prediction-data)\n",
    "\n",
    "The repository contains the complete data (energydata_complete.csv) as well as the training and testing splits used in the paper."
   ]
  },
  {
   "cell_type": "code",
   "execution_count": 1,
   "metadata": {},
   "outputs": [],
   "source": [
    "import os\n",
    "import re\n",
    "import numpy as np\n",
    "import pandas as pd\n",
    "import datetime\n",
    "import matplotlib.pyplot as plt \n",
    "import seaborn as sns\n",
    "plt.style.use('seaborn')\n",
    "%matplotlib inline"
   ]
  },
  {
   "cell_type": "code",
   "execution_count": 2,
   "metadata": {},
   "outputs": [],
   "source": [
    "from sklearn.model_selection import train_test_split\n",
    "from sklearn import linear_model\n",
    "from sklearn.metrics import r2_score, mean_squared_error, mean_absolute_error\n",
    "from sklearn.feature_selection import RFE, RFECV"
   ]
  },
  {
   "cell_type": "markdown",
   "metadata": {},
   "source": [
    "## Reading Data"
   ]
  },
  {
   "cell_type": "code",
   "execution_count": 3,
   "metadata": {},
   "outputs": [
    {
     "name": "stdout",
     "output_type": "stream",
     "text": [
      "complete_data shape:  (19735, 29)\n",
      "train_data shape:  (14803, 32)\n",
      "test_data shape:  (4932, 32)\n"
     ]
    }
   ],
   "source": [
    "complete_data = pd.read_csv('appliances-energy-prediction-data/energydata_complete.csv')\n",
    "train_data = pd.read_csv('appliances-energy-prediction-data/training.csv')\n",
    "test_data = pd.read_csv('appliances-energy-prediction-data/testing.csv')\n",
    "print(\"complete_data shape: \", complete_data.shape)\n",
    "print(\"train_data shape: \", train_data.shape)\n",
    "print(\"test_data shape: \", test_data.shape)"
   ]
  },
  {
   "cell_type": "code",
   "execution_count": 4,
   "metadata": {},
   "outputs": [
    {
     "name": "stdout",
     "output_type": "stream",
     "text": [
      "                  date  Appliances  lights     T1       RH_1    T2       RH_2  \\\n",
      "0  2016-01-11 17:00:00          60      30  19.89  47.596667  19.2  44.790000   \n",
      "1  2016-01-11 17:10:00          60      30  19.89  46.693333  19.2  44.722500   \n",
      "2  2016-01-11 17:20:00          50      30  19.89  46.300000  19.2  44.626667   \n",
      "3  2016-01-11 17:40:00          60      40  19.89  46.333333  19.2  44.530000   \n",
      "4  2016-01-11 17:50:00          50      40  19.89  46.026667  19.2  44.500000   \n",
      "\n",
      "      T3       RH_3         T4  ...  Press_mm_hg  RH_out  Windspeed  \\\n",
      "0  19.79  44.730000  19.000000  ...        733.5    92.0   7.000000   \n",
      "1  19.79  44.790000  19.000000  ...        733.6    92.0   6.666667   \n",
      "2  19.79  44.933333  18.926667  ...        733.7    92.0   6.333333   \n",
      "3  19.79  45.000000  18.890000  ...        733.9    92.0   5.666667   \n",
      "4  19.79  44.933333  18.890000  ...        734.0    92.0   5.333333   \n",
      "\n",
      "   Visibility  Tdewpoint        rv1        rv2    NSM  WeekStatus  Day_of_week  \n",
      "0   63.000000        5.3  13.275433  13.275433  61200     Weekday       Monday  \n",
      "1   59.166667        5.2  18.606195  18.606195  61800     Weekday       Monday  \n",
      "2   55.333333        5.1  28.642668  28.642668  62400     Weekday       Monday  \n",
      "3   47.666667        4.9  10.084097  10.084097  63600     Weekday       Monday  \n",
      "4   43.833333        4.8  44.919484  44.919484  64200     Weekday       Monday  \n",
      "\n",
      "[5 rows x 32 columns]\n"
     ]
    }
   ],
   "source": [
    "# checking head of training data\n",
    "print(train_data.head())"
   ]
  },
  {
   "cell_type": "code",
   "execution_count": 5,
   "metadata": {},
   "outputs": [
    {
     "name": "stdout",
     "output_type": "stream",
     "text": [
      "{'Weekend', 'Weekday'}\n"
     ]
    }
   ],
   "source": [
    "print(set(train_data['WeekStatus']))"
   ]
  },
  {
   "cell_type": "code",
   "execution_count": 6,
   "metadata": {},
   "outputs": [
    {
     "name": "stdout",
     "output_type": "stream",
     "text": [
      "{'Friday', 'Thursday', 'Tuesday', 'Saturday', 'Wednesday', 'Monday', 'Sunday'}\n"
     ]
    }
   ],
   "source": [
    "print(set(train_data['Day_of_week']))"
   ]
  },
  {
   "cell_type": "code",
   "execution_count": 7,
   "metadata": {},
   "outputs": [
    {
     "data": {
      "text/html": [
       "<div>\n",
       "<style scoped>\n",
       "    .dataframe tbody tr th:only-of-type {\n",
       "        vertical-align: middle;\n",
       "    }\n",
       "\n",
       "    .dataframe tbody tr th {\n",
       "        vertical-align: top;\n",
       "    }\n",
       "\n",
       "    .dataframe thead th {\n",
       "        text-align: right;\n",
       "    }\n",
       "</style>\n",
       "<table border=\"1\" class=\"dataframe\">\n",
       "  <thead>\n",
       "    <tr style=\"text-align: right;\">\n",
       "      <th></th>\n",
       "      <th>date</th>\n",
       "      <th>Appliances</th>\n",
       "      <th>lights</th>\n",
       "      <th>T1</th>\n",
       "      <th>RH_1</th>\n",
       "      <th>T2</th>\n",
       "      <th>RH_2</th>\n",
       "      <th>T3</th>\n",
       "      <th>RH_3</th>\n",
       "      <th>T4</th>\n",
       "      <th>...</th>\n",
       "      <th>Press_mm_hg</th>\n",
       "      <th>RH_out</th>\n",
       "      <th>Windspeed</th>\n",
       "      <th>Visibility</th>\n",
       "      <th>Tdewpoint</th>\n",
       "      <th>rv1</th>\n",
       "      <th>rv2</th>\n",
       "      <th>NSM</th>\n",
       "      <th>WeekStatus</th>\n",
       "      <th>Day_of_week</th>\n",
       "    </tr>\n",
       "    <tr>\n",
       "      <th>date</th>\n",
       "      <th></th>\n",
       "      <th></th>\n",
       "      <th></th>\n",
       "      <th></th>\n",
       "      <th></th>\n",
       "      <th></th>\n",
       "      <th></th>\n",
       "      <th></th>\n",
       "      <th></th>\n",
       "      <th></th>\n",
       "      <th></th>\n",
       "      <th></th>\n",
       "      <th></th>\n",
       "      <th></th>\n",
       "      <th></th>\n",
       "      <th></th>\n",
       "      <th></th>\n",
       "      <th></th>\n",
       "      <th></th>\n",
       "      <th></th>\n",
       "      <th></th>\n",
       "    </tr>\n",
       "  </thead>\n",
       "  <tbody>\n",
       "    <tr>\n",
       "      <th>2016-01-11 17:00:00</th>\n",
       "      <td>2016-01-11 17:00:00</td>\n",
       "      <td>60</td>\n",
       "      <td>30</td>\n",
       "      <td>19.89</td>\n",
       "      <td>47.596667</td>\n",
       "      <td>19.2</td>\n",
       "      <td>44.790000</td>\n",
       "      <td>19.79</td>\n",
       "      <td>44.730000</td>\n",
       "      <td>19.000000</td>\n",
       "      <td>...</td>\n",
       "      <td>733.5</td>\n",
       "      <td>92.0</td>\n",
       "      <td>7.000000</td>\n",
       "      <td>63.000000</td>\n",
       "      <td>5.3</td>\n",
       "      <td>13.275433</td>\n",
       "      <td>13.275433</td>\n",
       "      <td>61200</td>\n",
       "      <td>Weekday</td>\n",
       "      <td>Monday</td>\n",
       "    </tr>\n",
       "    <tr>\n",
       "      <th>2016-01-11 17:10:00</th>\n",
       "      <td>2016-01-11 17:10:00</td>\n",
       "      <td>60</td>\n",
       "      <td>30</td>\n",
       "      <td>19.89</td>\n",
       "      <td>46.693333</td>\n",
       "      <td>19.2</td>\n",
       "      <td>44.722500</td>\n",
       "      <td>19.79</td>\n",
       "      <td>44.790000</td>\n",
       "      <td>19.000000</td>\n",
       "      <td>...</td>\n",
       "      <td>733.6</td>\n",
       "      <td>92.0</td>\n",
       "      <td>6.666667</td>\n",
       "      <td>59.166667</td>\n",
       "      <td>5.2</td>\n",
       "      <td>18.606195</td>\n",
       "      <td>18.606195</td>\n",
       "      <td>61800</td>\n",
       "      <td>Weekday</td>\n",
       "      <td>Monday</td>\n",
       "    </tr>\n",
       "    <tr>\n",
       "      <th>2016-01-11 17:20:00</th>\n",
       "      <td>2016-01-11 17:20:00</td>\n",
       "      <td>50</td>\n",
       "      <td>30</td>\n",
       "      <td>19.89</td>\n",
       "      <td>46.300000</td>\n",
       "      <td>19.2</td>\n",
       "      <td>44.626667</td>\n",
       "      <td>19.79</td>\n",
       "      <td>44.933333</td>\n",
       "      <td>18.926667</td>\n",
       "      <td>...</td>\n",
       "      <td>733.7</td>\n",
       "      <td>92.0</td>\n",
       "      <td>6.333333</td>\n",
       "      <td>55.333333</td>\n",
       "      <td>5.1</td>\n",
       "      <td>28.642668</td>\n",
       "      <td>28.642668</td>\n",
       "      <td>62400</td>\n",
       "      <td>Weekday</td>\n",
       "      <td>Monday</td>\n",
       "    </tr>\n",
       "    <tr>\n",
       "      <th>2016-01-11 17:40:00</th>\n",
       "      <td>2016-01-11 17:40:00</td>\n",
       "      <td>60</td>\n",
       "      <td>40</td>\n",
       "      <td>19.89</td>\n",
       "      <td>46.333333</td>\n",
       "      <td>19.2</td>\n",
       "      <td>44.530000</td>\n",
       "      <td>19.79</td>\n",
       "      <td>45.000000</td>\n",
       "      <td>18.890000</td>\n",
       "      <td>...</td>\n",
       "      <td>733.9</td>\n",
       "      <td>92.0</td>\n",
       "      <td>5.666667</td>\n",
       "      <td>47.666667</td>\n",
       "      <td>4.9</td>\n",
       "      <td>10.084097</td>\n",
       "      <td>10.084097</td>\n",
       "      <td>63600</td>\n",
       "      <td>Weekday</td>\n",
       "      <td>Monday</td>\n",
       "    </tr>\n",
       "    <tr>\n",
       "      <th>2016-01-11 17:50:00</th>\n",
       "      <td>2016-01-11 17:50:00</td>\n",
       "      <td>50</td>\n",
       "      <td>40</td>\n",
       "      <td>19.89</td>\n",
       "      <td>46.026667</td>\n",
       "      <td>19.2</td>\n",
       "      <td>44.500000</td>\n",
       "      <td>19.79</td>\n",
       "      <td>44.933333</td>\n",
       "      <td>18.890000</td>\n",
       "      <td>...</td>\n",
       "      <td>734.0</td>\n",
       "      <td>92.0</td>\n",
       "      <td>5.333333</td>\n",
       "      <td>43.833333</td>\n",
       "      <td>4.8</td>\n",
       "      <td>44.919484</td>\n",
       "      <td>44.919484</td>\n",
       "      <td>64200</td>\n",
       "      <td>Weekday</td>\n",
       "      <td>Monday</td>\n",
       "    </tr>\n",
       "  </tbody>\n",
       "</table>\n",
       "<p>5 rows × 32 columns</p>\n",
       "</div>"
      ],
      "text/plain": [
       "                                    date  Appliances  lights     T1  \\\n",
       "date                                                                  \n",
       "2016-01-11 17:00:00  2016-01-11 17:00:00          60      30  19.89   \n",
       "2016-01-11 17:10:00  2016-01-11 17:10:00          60      30  19.89   \n",
       "2016-01-11 17:20:00  2016-01-11 17:20:00          50      30  19.89   \n",
       "2016-01-11 17:40:00  2016-01-11 17:40:00          60      40  19.89   \n",
       "2016-01-11 17:50:00  2016-01-11 17:50:00          50      40  19.89   \n",
       "\n",
       "                          RH_1    T2       RH_2     T3       RH_3         T4  \\\n",
       "date                                                                           \n",
       "2016-01-11 17:00:00  47.596667  19.2  44.790000  19.79  44.730000  19.000000   \n",
       "2016-01-11 17:10:00  46.693333  19.2  44.722500  19.79  44.790000  19.000000   \n",
       "2016-01-11 17:20:00  46.300000  19.2  44.626667  19.79  44.933333  18.926667   \n",
       "2016-01-11 17:40:00  46.333333  19.2  44.530000  19.79  45.000000  18.890000   \n",
       "2016-01-11 17:50:00  46.026667  19.2  44.500000  19.79  44.933333  18.890000   \n",
       "\n",
       "                     ...  Press_mm_hg  RH_out  Windspeed  Visibility  \\\n",
       "date                 ...                                               \n",
       "2016-01-11 17:00:00  ...        733.5    92.0   7.000000   63.000000   \n",
       "2016-01-11 17:10:00  ...        733.6    92.0   6.666667   59.166667   \n",
       "2016-01-11 17:20:00  ...        733.7    92.0   6.333333   55.333333   \n",
       "2016-01-11 17:40:00  ...        733.9    92.0   5.666667   47.666667   \n",
       "2016-01-11 17:50:00  ...        734.0    92.0   5.333333   43.833333   \n",
       "\n",
       "                     Tdewpoint        rv1        rv2    NSM  WeekStatus  \\\n",
       "date                                                                      \n",
       "2016-01-11 17:00:00        5.3  13.275433  13.275433  61200     Weekday   \n",
       "2016-01-11 17:10:00        5.2  18.606195  18.606195  61800     Weekday   \n",
       "2016-01-11 17:20:00        5.1  28.642668  28.642668  62400     Weekday   \n",
       "2016-01-11 17:40:00        4.9  10.084097  10.084097  63600     Weekday   \n",
       "2016-01-11 17:50:00        4.8  44.919484  44.919484  64200     Weekday   \n",
       "\n",
       "                     Day_of_week  \n",
       "date                              \n",
       "2016-01-11 17:00:00       Monday  \n",
       "2016-01-11 17:10:00       Monday  \n",
       "2016-01-11 17:20:00       Monday  \n",
       "2016-01-11 17:40:00       Monday  \n",
       "2016-01-11 17:50:00       Monday  \n",
       "\n",
       "[5 rows x 32 columns]"
      ]
     },
     "execution_count": 7,
     "metadata": {},
     "output_type": "execute_result"
    }
   ],
   "source": [
    "# Data preparation for modeling\n",
    "complete_data.index = pd.to_datetime(complete_data['date'])\n",
    "train_data.index = pd.to_datetime(train_data['date'])\n",
    "test_data.index = pd.to_datetime(test_data['date'])\n",
    "train_data.head()"
   ]
  },
  {
   "cell_type": "markdown",
   "metadata": {},
   "source": [
    "### Converting 'Day_of_week' from 'string' to 'Numbers'"
   ]
  },
  {
   "cell_type": "code",
   "execution_count": 8,
   "metadata": {},
   "outputs": [
    {
     "data": {
      "text/html": [
       "<div>\n",
       "<style scoped>\n",
       "    .dataframe tbody tr th:only-of-type {\n",
       "        vertical-align: middle;\n",
       "    }\n",
       "\n",
       "    .dataframe tbody tr th {\n",
       "        vertical-align: top;\n",
       "    }\n",
       "\n",
       "    .dataframe thead th {\n",
       "        text-align: right;\n",
       "    }\n",
       "</style>\n",
       "<table border=\"1\" class=\"dataframe\">\n",
       "  <thead>\n",
       "    <tr style=\"text-align: right;\">\n",
       "      <th></th>\n",
       "      <th>date</th>\n",
       "      <th>Appliances</th>\n",
       "      <th>lights</th>\n",
       "      <th>T1</th>\n",
       "      <th>RH_1</th>\n",
       "      <th>T2</th>\n",
       "      <th>RH_2</th>\n",
       "      <th>T3</th>\n",
       "      <th>RH_3</th>\n",
       "      <th>T4</th>\n",
       "      <th>...</th>\n",
       "      <th>Press_mm_hg</th>\n",
       "      <th>RH_out</th>\n",
       "      <th>Windspeed</th>\n",
       "      <th>Visibility</th>\n",
       "      <th>Tdewpoint</th>\n",
       "      <th>rv1</th>\n",
       "      <th>rv2</th>\n",
       "      <th>NSM</th>\n",
       "      <th>WeekStatus</th>\n",
       "      <th>Day_of_week</th>\n",
       "    </tr>\n",
       "    <tr>\n",
       "      <th>date</th>\n",
       "      <th></th>\n",
       "      <th></th>\n",
       "      <th></th>\n",
       "      <th></th>\n",
       "      <th></th>\n",
       "      <th></th>\n",
       "      <th></th>\n",
       "      <th></th>\n",
       "      <th></th>\n",
       "      <th></th>\n",
       "      <th></th>\n",
       "      <th></th>\n",
       "      <th></th>\n",
       "      <th></th>\n",
       "      <th></th>\n",
       "      <th></th>\n",
       "      <th></th>\n",
       "      <th></th>\n",
       "      <th></th>\n",
       "      <th></th>\n",
       "      <th></th>\n",
       "    </tr>\n",
       "  </thead>\n",
       "  <tbody>\n",
       "    <tr>\n",
       "      <th>2016-01-11 17:00:00</th>\n",
       "      <td>2016-01-11 17:00:00</td>\n",
       "      <td>60</td>\n",
       "      <td>30</td>\n",
       "      <td>19.89</td>\n",
       "      <td>47.596667</td>\n",
       "      <td>19.2</td>\n",
       "      <td>44.790000</td>\n",
       "      <td>19.79</td>\n",
       "      <td>44.730000</td>\n",
       "      <td>19.000000</td>\n",
       "      <td>...</td>\n",
       "      <td>733.5</td>\n",
       "      <td>92.0</td>\n",
       "      <td>7.000000</td>\n",
       "      <td>63.000000</td>\n",
       "      <td>5.3</td>\n",
       "      <td>13.275433</td>\n",
       "      <td>13.275433</td>\n",
       "      <td>61200</td>\n",
       "      <td>Weekday</td>\n",
       "      <td>0</td>\n",
       "    </tr>\n",
       "    <tr>\n",
       "      <th>2016-01-11 17:10:00</th>\n",
       "      <td>2016-01-11 17:10:00</td>\n",
       "      <td>60</td>\n",
       "      <td>30</td>\n",
       "      <td>19.89</td>\n",
       "      <td>46.693333</td>\n",
       "      <td>19.2</td>\n",
       "      <td>44.722500</td>\n",
       "      <td>19.79</td>\n",
       "      <td>44.790000</td>\n",
       "      <td>19.000000</td>\n",
       "      <td>...</td>\n",
       "      <td>733.6</td>\n",
       "      <td>92.0</td>\n",
       "      <td>6.666667</td>\n",
       "      <td>59.166667</td>\n",
       "      <td>5.2</td>\n",
       "      <td>18.606195</td>\n",
       "      <td>18.606195</td>\n",
       "      <td>61800</td>\n",
       "      <td>Weekday</td>\n",
       "      <td>0</td>\n",
       "    </tr>\n",
       "    <tr>\n",
       "      <th>2016-01-11 17:20:00</th>\n",
       "      <td>2016-01-11 17:20:00</td>\n",
       "      <td>50</td>\n",
       "      <td>30</td>\n",
       "      <td>19.89</td>\n",
       "      <td>46.300000</td>\n",
       "      <td>19.2</td>\n",
       "      <td>44.626667</td>\n",
       "      <td>19.79</td>\n",
       "      <td>44.933333</td>\n",
       "      <td>18.926667</td>\n",
       "      <td>...</td>\n",
       "      <td>733.7</td>\n",
       "      <td>92.0</td>\n",
       "      <td>6.333333</td>\n",
       "      <td>55.333333</td>\n",
       "      <td>5.1</td>\n",
       "      <td>28.642668</td>\n",
       "      <td>28.642668</td>\n",
       "      <td>62400</td>\n",
       "      <td>Weekday</td>\n",
       "      <td>0</td>\n",
       "    </tr>\n",
       "    <tr>\n",
       "      <th>2016-01-11 17:40:00</th>\n",
       "      <td>2016-01-11 17:40:00</td>\n",
       "      <td>60</td>\n",
       "      <td>40</td>\n",
       "      <td>19.89</td>\n",
       "      <td>46.333333</td>\n",
       "      <td>19.2</td>\n",
       "      <td>44.530000</td>\n",
       "      <td>19.79</td>\n",
       "      <td>45.000000</td>\n",
       "      <td>18.890000</td>\n",
       "      <td>...</td>\n",
       "      <td>733.9</td>\n",
       "      <td>92.0</td>\n",
       "      <td>5.666667</td>\n",
       "      <td>47.666667</td>\n",
       "      <td>4.9</td>\n",
       "      <td>10.084097</td>\n",
       "      <td>10.084097</td>\n",
       "      <td>63600</td>\n",
       "      <td>Weekday</td>\n",
       "      <td>0</td>\n",
       "    </tr>\n",
       "    <tr>\n",
       "      <th>2016-01-11 17:50:00</th>\n",
       "      <td>2016-01-11 17:50:00</td>\n",
       "      <td>50</td>\n",
       "      <td>40</td>\n",
       "      <td>19.89</td>\n",
       "      <td>46.026667</td>\n",
       "      <td>19.2</td>\n",
       "      <td>44.500000</td>\n",
       "      <td>19.79</td>\n",
       "      <td>44.933333</td>\n",
       "      <td>18.890000</td>\n",
       "      <td>...</td>\n",
       "      <td>734.0</td>\n",
       "      <td>92.0</td>\n",
       "      <td>5.333333</td>\n",
       "      <td>43.833333</td>\n",
       "      <td>4.8</td>\n",
       "      <td>44.919484</td>\n",
       "      <td>44.919484</td>\n",
       "      <td>64200</td>\n",
       "      <td>Weekday</td>\n",
       "      <td>0</td>\n",
       "    </tr>\n",
       "  </tbody>\n",
       "</table>\n",
       "<p>5 rows × 32 columns</p>\n",
       "</div>"
      ],
      "text/plain": [
       "                                    date  Appliances  lights     T1  \\\n",
       "date                                                                  \n",
       "2016-01-11 17:00:00  2016-01-11 17:00:00          60      30  19.89   \n",
       "2016-01-11 17:10:00  2016-01-11 17:10:00          60      30  19.89   \n",
       "2016-01-11 17:20:00  2016-01-11 17:20:00          50      30  19.89   \n",
       "2016-01-11 17:40:00  2016-01-11 17:40:00          60      40  19.89   \n",
       "2016-01-11 17:50:00  2016-01-11 17:50:00          50      40  19.89   \n",
       "\n",
       "                          RH_1    T2       RH_2     T3       RH_3         T4  \\\n",
       "date                                                                           \n",
       "2016-01-11 17:00:00  47.596667  19.2  44.790000  19.79  44.730000  19.000000   \n",
       "2016-01-11 17:10:00  46.693333  19.2  44.722500  19.79  44.790000  19.000000   \n",
       "2016-01-11 17:20:00  46.300000  19.2  44.626667  19.79  44.933333  18.926667   \n",
       "2016-01-11 17:40:00  46.333333  19.2  44.530000  19.79  45.000000  18.890000   \n",
       "2016-01-11 17:50:00  46.026667  19.2  44.500000  19.79  44.933333  18.890000   \n",
       "\n",
       "                     ...  Press_mm_hg  RH_out  Windspeed  Visibility  \\\n",
       "date                 ...                                               \n",
       "2016-01-11 17:00:00  ...        733.5    92.0   7.000000   63.000000   \n",
       "2016-01-11 17:10:00  ...        733.6    92.0   6.666667   59.166667   \n",
       "2016-01-11 17:20:00  ...        733.7    92.0   6.333333   55.333333   \n",
       "2016-01-11 17:40:00  ...        733.9    92.0   5.666667   47.666667   \n",
       "2016-01-11 17:50:00  ...        734.0    92.0   5.333333   43.833333   \n",
       "\n",
       "                     Tdewpoint        rv1        rv2    NSM  WeekStatus  \\\n",
       "date                                                                      \n",
       "2016-01-11 17:00:00        5.3  13.275433  13.275433  61200     Weekday   \n",
       "2016-01-11 17:10:00        5.2  18.606195  18.606195  61800     Weekday   \n",
       "2016-01-11 17:20:00        5.1  28.642668  28.642668  62400     Weekday   \n",
       "2016-01-11 17:40:00        4.9  10.084097  10.084097  63600     Weekday   \n",
       "2016-01-11 17:50:00        4.8  44.919484  44.919484  64200     Weekday   \n",
       "\n",
       "                     Day_of_week  \n",
       "date                              \n",
       "2016-01-11 17:00:00            0  \n",
       "2016-01-11 17:10:00            0  \n",
       "2016-01-11 17:20:00            0  \n",
       "2016-01-11 17:40:00            0  \n",
       "2016-01-11 17:50:00            0  \n",
       "\n",
       "[5 rows x 32 columns]"
      ]
     },
     "execution_count": 8,
     "metadata": {},
     "output_type": "execute_result"
    }
   ],
   "source": [
    "train_data['Day_of_week'] = train_data.index.weekday\n",
    "test_data['Day_of_week'] = test_data.index.weekday\n",
    "train_data.head()"
   ]
  },
  {
   "cell_type": "code",
   "execution_count": 9,
   "metadata": {},
   "outputs": [
    {
     "data": {
      "text/plain": [
       "{0, 1, 2, 3, 4, 5, 6}"
      ]
     },
     "execution_count": 9,
     "metadata": {},
     "output_type": "execute_result"
    }
   ],
   "source": [
    "set(train_data['Day_of_week'])"
   ]
  },
  {
   "cell_type": "markdown",
   "metadata": {},
   "source": [
    "### Converting WeekStatus from 'string' to 'Numbers' using get_dummies"
   ]
  },
  {
   "cell_type": "code",
   "execution_count": 10,
   "metadata": {},
   "outputs": [
    {
     "data": {
      "text/html": [
       "<div>\n",
       "<style scoped>\n",
       "    .dataframe tbody tr th:only-of-type {\n",
       "        vertical-align: middle;\n",
       "    }\n",
       "\n",
       "    .dataframe tbody tr th {\n",
       "        vertical-align: top;\n",
       "    }\n",
       "\n",
       "    .dataframe thead th {\n",
       "        text-align: right;\n",
       "    }\n",
       "</style>\n",
       "<table border=\"1\" class=\"dataframe\">\n",
       "  <thead>\n",
       "    <tr style=\"text-align: right;\">\n",
       "      <th></th>\n",
       "      <th>date</th>\n",
       "      <th>Appliances</th>\n",
       "      <th>lights</th>\n",
       "      <th>T1</th>\n",
       "      <th>RH_1</th>\n",
       "      <th>T2</th>\n",
       "      <th>RH_2</th>\n",
       "      <th>T3</th>\n",
       "      <th>RH_3</th>\n",
       "      <th>T4</th>\n",
       "      <th>...</th>\n",
       "      <th>Press_mm_hg</th>\n",
       "      <th>RH_out</th>\n",
       "      <th>Windspeed</th>\n",
       "      <th>Visibility</th>\n",
       "      <th>Tdewpoint</th>\n",
       "      <th>rv1</th>\n",
       "      <th>rv2</th>\n",
       "      <th>NSM</th>\n",
       "      <th>WeekStatus</th>\n",
       "      <th>Day_of_week</th>\n",
       "    </tr>\n",
       "    <tr>\n",
       "      <th>date</th>\n",
       "      <th></th>\n",
       "      <th></th>\n",
       "      <th></th>\n",
       "      <th></th>\n",
       "      <th></th>\n",
       "      <th></th>\n",
       "      <th></th>\n",
       "      <th></th>\n",
       "      <th></th>\n",
       "      <th></th>\n",
       "      <th></th>\n",
       "      <th></th>\n",
       "      <th></th>\n",
       "      <th></th>\n",
       "      <th></th>\n",
       "      <th></th>\n",
       "      <th></th>\n",
       "      <th></th>\n",
       "      <th></th>\n",
       "      <th></th>\n",
       "      <th></th>\n",
       "    </tr>\n",
       "  </thead>\n",
       "  <tbody>\n",
       "    <tr>\n",
       "      <th>2016-01-11 17:00:00</th>\n",
       "      <td>2016-01-11 17:00:00</td>\n",
       "      <td>60</td>\n",
       "      <td>30</td>\n",
       "      <td>19.89</td>\n",
       "      <td>47.596667</td>\n",
       "      <td>19.2</td>\n",
       "      <td>44.790000</td>\n",
       "      <td>19.79</td>\n",
       "      <td>44.730000</td>\n",
       "      <td>19.000000</td>\n",
       "      <td>...</td>\n",
       "      <td>733.5</td>\n",
       "      <td>92.0</td>\n",
       "      <td>7.000000</td>\n",
       "      <td>63.000000</td>\n",
       "      <td>5.3</td>\n",
       "      <td>13.275433</td>\n",
       "      <td>13.275433</td>\n",
       "      <td>61200</td>\n",
       "      <td>1</td>\n",
       "      <td>0</td>\n",
       "    </tr>\n",
       "    <tr>\n",
       "      <th>2016-01-11 17:10:00</th>\n",
       "      <td>2016-01-11 17:10:00</td>\n",
       "      <td>60</td>\n",
       "      <td>30</td>\n",
       "      <td>19.89</td>\n",
       "      <td>46.693333</td>\n",
       "      <td>19.2</td>\n",
       "      <td>44.722500</td>\n",
       "      <td>19.79</td>\n",
       "      <td>44.790000</td>\n",
       "      <td>19.000000</td>\n",
       "      <td>...</td>\n",
       "      <td>733.6</td>\n",
       "      <td>92.0</td>\n",
       "      <td>6.666667</td>\n",
       "      <td>59.166667</td>\n",
       "      <td>5.2</td>\n",
       "      <td>18.606195</td>\n",
       "      <td>18.606195</td>\n",
       "      <td>61800</td>\n",
       "      <td>1</td>\n",
       "      <td>0</td>\n",
       "    </tr>\n",
       "    <tr>\n",
       "      <th>2016-01-11 17:20:00</th>\n",
       "      <td>2016-01-11 17:20:00</td>\n",
       "      <td>50</td>\n",
       "      <td>30</td>\n",
       "      <td>19.89</td>\n",
       "      <td>46.300000</td>\n",
       "      <td>19.2</td>\n",
       "      <td>44.626667</td>\n",
       "      <td>19.79</td>\n",
       "      <td>44.933333</td>\n",
       "      <td>18.926667</td>\n",
       "      <td>...</td>\n",
       "      <td>733.7</td>\n",
       "      <td>92.0</td>\n",
       "      <td>6.333333</td>\n",
       "      <td>55.333333</td>\n",
       "      <td>5.1</td>\n",
       "      <td>28.642668</td>\n",
       "      <td>28.642668</td>\n",
       "      <td>62400</td>\n",
       "      <td>1</td>\n",
       "      <td>0</td>\n",
       "    </tr>\n",
       "    <tr>\n",
       "      <th>2016-01-11 17:40:00</th>\n",
       "      <td>2016-01-11 17:40:00</td>\n",
       "      <td>60</td>\n",
       "      <td>40</td>\n",
       "      <td>19.89</td>\n",
       "      <td>46.333333</td>\n",
       "      <td>19.2</td>\n",
       "      <td>44.530000</td>\n",
       "      <td>19.79</td>\n",
       "      <td>45.000000</td>\n",
       "      <td>18.890000</td>\n",
       "      <td>...</td>\n",
       "      <td>733.9</td>\n",
       "      <td>92.0</td>\n",
       "      <td>5.666667</td>\n",
       "      <td>47.666667</td>\n",
       "      <td>4.9</td>\n",
       "      <td>10.084097</td>\n",
       "      <td>10.084097</td>\n",
       "      <td>63600</td>\n",
       "      <td>1</td>\n",
       "      <td>0</td>\n",
       "    </tr>\n",
       "    <tr>\n",
       "      <th>2016-01-11 17:50:00</th>\n",
       "      <td>2016-01-11 17:50:00</td>\n",
       "      <td>50</td>\n",
       "      <td>40</td>\n",
       "      <td>19.89</td>\n",
       "      <td>46.026667</td>\n",
       "      <td>19.2</td>\n",
       "      <td>44.500000</td>\n",
       "      <td>19.79</td>\n",
       "      <td>44.933333</td>\n",
       "      <td>18.890000</td>\n",
       "      <td>...</td>\n",
       "      <td>734.0</td>\n",
       "      <td>92.0</td>\n",
       "      <td>5.333333</td>\n",
       "      <td>43.833333</td>\n",
       "      <td>4.8</td>\n",
       "      <td>44.919484</td>\n",
       "      <td>44.919484</td>\n",
       "      <td>64200</td>\n",
       "      <td>1</td>\n",
       "      <td>0</td>\n",
       "    </tr>\n",
       "  </tbody>\n",
       "</table>\n",
       "<p>5 rows × 32 columns</p>\n",
       "</div>"
      ],
      "text/plain": [
       "                                    date  Appliances  lights     T1  \\\n",
       "date                                                                  \n",
       "2016-01-11 17:00:00  2016-01-11 17:00:00          60      30  19.89   \n",
       "2016-01-11 17:10:00  2016-01-11 17:10:00          60      30  19.89   \n",
       "2016-01-11 17:20:00  2016-01-11 17:20:00          50      30  19.89   \n",
       "2016-01-11 17:40:00  2016-01-11 17:40:00          60      40  19.89   \n",
       "2016-01-11 17:50:00  2016-01-11 17:50:00          50      40  19.89   \n",
       "\n",
       "                          RH_1    T2       RH_2     T3       RH_3         T4  \\\n",
       "date                                                                           \n",
       "2016-01-11 17:00:00  47.596667  19.2  44.790000  19.79  44.730000  19.000000   \n",
       "2016-01-11 17:10:00  46.693333  19.2  44.722500  19.79  44.790000  19.000000   \n",
       "2016-01-11 17:20:00  46.300000  19.2  44.626667  19.79  44.933333  18.926667   \n",
       "2016-01-11 17:40:00  46.333333  19.2  44.530000  19.79  45.000000  18.890000   \n",
       "2016-01-11 17:50:00  46.026667  19.2  44.500000  19.79  44.933333  18.890000   \n",
       "\n",
       "                     ...  Press_mm_hg  RH_out  Windspeed  Visibility  \\\n",
       "date                 ...                                               \n",
       "2016-01-11 17:00:00  ...        733.5    92.0   7.000000   63.000000   \n",
       "2016-01-11 17:10:00  ...        733.6    92.0   6.666667   59.166667   \n",
       "2016-01-11 17:20:00  ...        733.7    92.0   6.333333   55.333333   \n",
       "2016-01-11 17:40:00  ...        733.9    92.0   5.666667   47.666667   \n",
       "2016-01-11 17:50:00  ...        734.0    92.0   5.333333   43.833333   \n",
       "\n",
       "                     Tdewpoint        rv1        rv2    NSM  WeekStatus  \\\n",
       "date                                                                      \n",
       "2016-01-11 17:00:00        5.3  13.275433  13.275433  61200           1   \n",
       "2016-01-11 17:10:00        5.2  18.606195  18.606195  61800           1   \n",
       "2016-01-11 17:20:00        5.1  28.642668  28.642668  62400           1   \n",
       "2016-01-11 17:40:00        4.9  10.084097  10.084097  63600           1   \n",
       "2016-01-11 17:50:00        4.8  44.919484  44.919484  64200           1   \n",
       "\n",
       "                     Day_of_week  \n",
       "date                              \n",
       "2016-01-11 17:00:00            0  \n",
       "2016-01-11 17:10:00            0  \n",
       "2016-01-11 17:20:00            0  \n",
       "2016-01-11 17:40:00            0  \n",
       "2016-01-11 17:50:00            0  \n",
       "\n",
       "[5 rows x 32 columns]"
      ]
     },
     "execution_count": 10,
     "metadata": {},
     "output_type": "execute_result"
    }
   ],
   "source": [
    "# Changing 'Weekstatus'\n",
    "train_data['WeekStatus'] = pd.get_dummies(train_data['WeekStatus'])\n",
    "test_data['WeekStatus'] = pd.get_dummies(test_data['WeekStatus'])\n",
    "train_data.head()"
   ]
  },
  {
   "cell_type": "code",
   "execution_count": 11,
   "metadata": {},
   "outputs": [
    {
     "data": {
      "text/plain": [
       "{0, 1}"
      ]
     },
     "execution_count": 11,
     "metadata": {},
     "output_type": "execute_result"
    }
   ],
   "source": [
    "set(train_data['WeekStatus'])"
   ]
  },
  {
   "cell_type": "markdown",
   "metadata": {},
   "source": [
    "### Split the data into train data and train label, test data and test label"
   ]
  },
  {
   "cell_type": "code",
   "execution_count": 12,
   "metadata": {},
   "outputs": [
    {
     "name": "stdout",
     "output_type": "stream",
     "text": [
      "X_train shape:  (14803, 30)\n",
      "y_train shape:  (14803,)\n",
      "X_test shape:  (4932, 30)\n",
      "y_test shape:  (4932,)\n"
     ]
    }
   ],
   "source": [
    "# data split\n",
    "X_train = train_data.drop(['Appliances', 'date'], axis=1)\n",
    "y_train = train_data['Appliances']\n",
    "X_test = test_data.drop(['Appliances', 'date'], axis=1)\n",
    "y_test = test_data['Appliances']\n",
    "print(\"X_train shape: \", X_train.shape)\n",
    "print(\"y_train shape: \", y_train.shape)\n",
    "print(\"X_test shape: \", X_test.shape)\n",
    "print(\"y_test shape: \", y_test.shape)"
   ]
  },
  {
   "cell_type": "code",
   "execution_count": 13,
   "metadata": {},
   "outputs": [
    {
     "data": {
      "text/plain": [
       "LinearRegression(copy_X=True, fit_intercept=True, n_jobs=None, normalize=False)"
      ]
     },
     "execution_count": 13,
     "metadata": {},
     "output_type": "execute_result"
    }
   ],
   "source": [
    "lr_model = linear_model.LinearRegression()\n",
    "lr_model.fit(X_train, y_train)"
   ]
  },
  {
   "cell_type": "markdown",
   "metadata": {},
   "source": [
    "### Evaluation metrics on test data"
   ]
  },
  {
   "cell_type": "code",
   "execution_count": 14,
   "metadata": {},
   "outputs": [
    {
     "name": "stdout",
     "output_type": "stream",
     "text": [
      "MSE:  8753.524114632068\n",
      "RMSE:  93.56026995809742\n",
      "R^2:  0.15206399952829996\n",
      "MAE:  52.05948877222465\n"
     ]
    }
   ],
   "source": [
    "y_test_pred = lr_model.predict(X_test)\n",
    "print(\"MSE: \", mean_squared_error(y_test, y_test_pred))\n",
    "print(\"RMSE: \", np.sqrt(mean_squared_error(y_test, y_test_pred)))\n",
    "print(\"R^2: \", r2_score(y_test, y_test_pred))\n",
    "print(\"MAE: \", mean_absolute_error(y_test, y_test_pred))"
   ]
  },
  {
   "cell_type": "markdown",
   "metadata": {},
   "source": [
    "### Evaluation metrics on train data"
   ]
  },
  {
   "cell_type": "code",
   "execution_count": 15,
   "metadata": {},
   "outputs": [
    {
     "name": "stdout",
     "output_type": "stream",
     "text": [
      "MSE:  8741.215155469987\n",
      "RMSE:  93.49446590825569\n",
      "R^2:  0.17324237562457778\n",
      "MAE:  53.238956424690556\n"
     ]
    }
   ],
   "source": [
    "y_train_pred = lr_model.predict(X_train)\n",
    "print(\"MSE: \", mean_squared_error(y_train, y_train_pred))\n",
    "print(\"RMSE: \", np.sqrt(mean_squared_error(y_train, y_train_pred)))\n",
    "print(\"R^2: \", r2_score(y_train, y_train_pred))\n",
    "print(\"MAE: \", mean_absolute_error(y_train, y_train_pred))"
   ]
  },
  {
   "cell_type": "markdown",
   "metadata": {},
   "source": [
    "### Checking the impact of number of features"
   ]
  },
  {
   "cell_type": "code",
   "execution_count": 16,
   "metadata": {},
   "outputs": [],
   "source": [
    "RMSE_list = []\n",
    "for i in range(1, 30):\n",
    "    model = linear_model.LinearRegression()\n",
    "    selector = RFE(model, i)\n",
    "    selector.fit(X_train, y_train)\n",
    "    y_predicted_test = selector.predict(X_test)\n",
    "    RMSE_list.append(np.sqrt(mean_squared_error(y_test, y_predicted_test)))"
   ]
  },
  {
   "cell_type": "code",
   "execution_count": 17,
   "metadata": {},
   "outputs": [
    {
     "data": {
      "text/plain": [
       "Text(0, 0.5, 'RMSE')"
      ]
     },
     "execution_count": 17,
     "metadata": {},
     "output_type": "execute_result"
    },
    {
     "data": {
      "image/png": "[encoded data removed]",
      "text/plain": [
       "<Figure size 1440x720 with 1 Axes>"
      ]
     },
     "metadata": {
      "needs_background": "light"
     },
     "output_type": "display_data"
    }
   ],
   "source": [
    "# Plot\n",
    "RMSE_df = pd.DataFrame(RMSE_list, columns=['RMSE'])\n",
    "plt.figure(figsize=(20,10))\n",
    "sns.lineplot(data=RMSE_df)\n",
    "plt.title('Effect of increasing number of features on RMSE value')\n",
    "plt.xlabel('No. of features')\n",
    "plt.ylabel('RMSE')"
   ]
  },
  {
   "cell_type": "markdown",
   "metadata": {},
   "source": [
    "### Finding most important features"
   ]
  },
  {
   "cell_type": "code",
   "execution_count": 18,
   "metadata": {},
   "outputs": [
    {
     "name": "stdout",
     "output_type": "stream",
     "text": [
      "Top 15 important features:  Index(['lights', 'T1', 'RH_1', 'T2', 'RH_2', 'T3', 'RH_3', 'T4', 'T6', 'T8',\n",
      "       'RH_8', 'T9', 'T_out', 'Windspeed', 'WeekStatus'],\n",
      "      dtype='object')\n"
     ]
    }
   ],
   "source": [
    "model = linear_model.LinearRegression()\n",
    "top_15 = 15\n",
    "selector = RFE(model, top_15)\n",
    "selector.fit(X_train, y_train)\n",
    "y_predicted_test = selector.predict(X_test)\n",
    "support_var = selector.get_support()\n",
    "print(\"Top 15 important features: \", X_train.columns[support_var])"
   ]
  },
  {
   "cell_type": "code",
   "execution_count": null,
   "metadata": {},
   "outputs": [],
   "source": []
  }
 ],
 "metadata": {
  "kernelspec": {
   "display_name": "Python 3",
   "language": "python",
   "name": "python3"
  },
  "language_info": {
   "codemirror_mode": {
    "name": "ipython",
    "version": 3
   },
   "file_extension": ".py",
   "mimetype": "text/x-python",
   "name": "python",
   "nbconvert_exporter": "python",
   "pygments_lexer": "ipython3",
   "version": "3.7.3"
  }
 },
 "nbformat": 4,
 "nbformat_minor": 2
}
